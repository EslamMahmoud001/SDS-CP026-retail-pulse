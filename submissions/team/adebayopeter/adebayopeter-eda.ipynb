{
 "cells": [
  {
   "cell_type": "markdown",
   "id": "9d98fb8f-f3a8-480a-9d18-6af37abc824c",
   "metadata": {},
   "source": [
    "# Exploratory Data Analysis"
   ]
  },
  {
   "cell_type": "markdown",
   "id": "c2d2a0f4-7a55-485a-87b8-2613c725b5dd",
   "metadata": {},
   "source": [
    "## Load and Inspect the Dataset"
   ]
  },
  {
   "cell_type": "code",
   "execution_count": null,
   "id": "21a96fc8-c332-44e9-aae9-d36da8311b79",
   "metadata": {},
   "outputs": [],
   "source": [
    "import pandas as pd\n",
    "import matplotlib.pyplot as plt\n",
    "import seaborn as sns\n",
    "from sklearn.preprocessing import LabelEncoder"
   ]
  },
  {
   "cell_type": "code",
   "execution_count": null,
   "id": "d1283962-5789-4ec5-8f80-75993ecc3f0d",
   "metadata": {},
   "outputs": [],
   "source": [
    "dataset = pd.read_csv(\"data/TechCorner_Sales_update.csv\")"
   ]
  },
  {
   "cell_type": "code",
   "execution_count": null,
   "id": "8ba2337f-81f6-483f-813d-e373c3e77902",
   "metadata": {},
   "outputs": [],
   "source": [
    "dataset.head(10)"
   ]
  },
  {
   "cell_type": "code",
   "execution_count": null,
   "id": "c1baa568-1172-49b3-a6cc-f8004090f65f",
   "metadata": {},
   "outputs": [],
   "source": [
    "dataset.info()"
   ]
  },
  {
   "cell_type": "code",
   "execution_count": null,
   "id": "2b180326-6322-425d-b334-2759506a789d",
   "metadata": {},
   "outputs": [],
   "source": [
    "dataset.describe()"
   ]
  },
  {
   "cell_type": "code",
   "execution_count": null,
   "id": "ee1e0116-f08a-49cc-a4f5-925fe224a9cf",
   "metadata": {},
   "outputs": [],
   "source": [
    "# Clean column names\n",
    "dataset.columns = dataset.columns.str.strip().str.replace(' ', '_').str.replace('?', '').str.lower()\n",
    "\n",
    "# Check cleaned column names\n",
    "dataset.columns"
   ]
  },
  {
   "cell_type": "code",
   "execution_count": null,
   "id": "437ff9a0-b742-4255-970f-d1a116a14852",
   "metadata": {},
   "outputs": [],
   "source": [
    "dataset.info()"
   ]
  },
  {
   "cell_type": "code",
   "execution_count": null,
   "id": "a441f0f7-2860-4c6e-af80-0b11e2dcbb2e",
   "metadata": {},
   "outputs": [],
   "source": [
    "dataset.head()"
   ]
  },
  {
   "cell_type": "markdown",
   "id": "fcbb2bdd-6767-485d-afbe-03a5832114b0",
   "metadata": {},
   "source": [
    "## Geographic distribution of customers (local vs. non-local)"
   ]
  },
  {
   "cell_type": "markdown",
   "id": "ccd3cec2-0d99-49fe-b574-4a730ef5d20e",
   "metadata": {},
   "source": [
    "Note that:\n",
    "- Local = \"Rangamati Sadar\" or \"Inside Rangamati\"\n",
    "- Non-Local = \"Outside Rangamati\""
   ]
  },
  {
   "cell_type": "code",
   "execution_count": null,
   "id": "ca4a4277-555d-48f3-b71b-eca9b3b461dd",
   "metadata": {},
   "outputs": [],
   "source": [
    "# Distinct value in cus._location\n",
    "dataset['cus._location'].unique()"
   ]
  },
  {
   "cell_type": "code",
   "execution_count": null,
   "id": "53c1ee43-9dc1-426f-b6a4-3ca1a98e9de9",
   "metadata": {},
   "outputs": [],
   "source": [
    "# Count distinct values\n",
    "dataset['cus._location'].nunique()"
   ]
  },
  {
   "cell_type": "code",
   "execution_count": null,
   "id": "40cce8ff-9a29-4b85-b026-257ffef1b22d",
   "metadata": {},
   "outputs": [],
   "source": [
    "dataset['cus._location'].value_counts()"
   ]
  },
  {
   "cell_type": "code",
   "execution_count": null,
   "id": "f25fabe2-cb8a-403f-9c9b-5afb0d20b2ee",
   "metadata": {},
   "outputs": [],
   "source": [
    "# Define a new column for local vs. non-local\n",
    "dataset['is_local'] = dataset['cus._location'].apply(\n",
    "    lambda x: 'local' if 'Rangamati' in x and 'Outside' not in x else 'non-local'\n",
    ")\n"
   ]
  },
  {
   "cell_type": "code",
   "execution_count": null,
   "id": "f706ddaa-0a4e-4837-a895-37738031ed2e",
   "metadata": {},
   "outputs": [],
   "source": [
    "# Count distribution\n",
    "location_dist = dataset['is_local'].value_counts()\n",
    "print(location_dist)"
   ]
  },
  {
   "cell_type": "code",
   "execution_count": null,
   "id": "8405ca1f-1c95-4c13-8739-8658ee850615",
   "metadata": {},
   "outputs": [],
   "source": [
    "location_dist.plot(kind='bar', title='Customer Geographic Distribution (Local vs. Non-Local)', color=['green', 'red'])\n",
    "plt.ylabel('Number of Customers')\n",
    "plt.xlabel('Customer Type')\n",
    "plt.tight_layout()\n",
    "plt.show()"
   ]
  },
  {
   "cell_type": "markdown",
   "id": "28dc5c21-a64e-4bb3-b9a0-0fd0e5119f87",
   "metadata": {},
   "source": [
    "## New vs. Returning Customers"
   ]
  },
  {
   "cell_type": "code",
   "execution_count": null,
   "id": "a681e43a-f6df-4b4b-8d9c-bb0535628c74",
   "metadata": {},
   "outputs": [],
   "source": [
    "# Get value counts and convert to DataFrame\n",
    "value_new_or_returning_df = dataset['did_he/she_buy_any_mobile_before'].value_counts().reset_index()\n",
    "\n",
    "# Rename columns for clarity\n",
    "value_new_or_returning_df.columns = ['New / Returning', 'Count']\n",
    "\n",
    "value_new_or_returning_df"
   ]
  },
  {
   "cell_type": "markdown",
   "id": "35698b06-8117-4d3e-af38-a8f17dd66058",
   "metadata": {},
   "source": [
    "## Facebook-origin vs. walk-in"
   ]
  },
  {
   "cell_type": "code",
   "execution_count": null,
   "id": "9bdd5f0e-e9ea-4bac-9ddf-e8fe15882617",
   "metadata": {},
   "outputs": [],
   "source": [
    "value_facebook_origin_df = dataset['does_he/she_come_from_facebook_page'].value_counts().reset_index()\n",
    "\n",
    "value_facebook_origin_df.columns = ['Facebook-origin', 'Count']\n",
    "\n",
    "value_facebook_origin_df"
   ]
  },
  {
   "cell_type": "markdown",
   "id": "819a855e-dc82-493d-b13b-b4063c14f8c7",
   "metadata": {},
   "source": [
    "## Referrals"
   ]
  },
  {
   "cell_type": "code",
   "execution_count": null,
   "id": "a8f84aad-da22-4bfa-8322-73ceb15173a0",
   "metadata": {},
   "outputs": [],
   "source": [
    "value_heard_of_shop_df = dataset['did_he/she_hear_of_our_shop_before'].value_counts().reset_index()\n",
    "\n",
    "value_heard_of_shop_df.columns = ['Referrals', 'Count']\n",
    "\n",
    "value_heard_of_shop_df"
   ]
  },
  {
   "cell_type": "markdown",
   "id": "6f213c64-ba7c-49c9-9f21-764cf0b6f653",
   "metadata": {},
   "source": [
    "## Facebook Followers"
   ]
  },
  {
   "cell_type": "code",
   "execution_count": null,
   "id": "6e677b5e-97bb-4960-ad05-c04843d02c20",
   "metadata": {},
   "outputs": [],
   "source": [
    "value_facebook_followers_df = dataset['does_he/she_followed_our_page'].value_counts().reset_index()\n",
    "\n",
    "value_facebook_followers_df.columns = ['Facebook-origin', 'Count']\n",
    "\n",
    "value_facebook_followers_df"
   ]
  },
  {
   "cell_type": "markdown",
   "id": "fb22adc9-03d7-4169-8f7c-61507543af2b",
   "metadata": {},
   "source": [
    "### Visualization"
   ]
  },
  {
   "cell_type": "code",
   "execution_count": null,
   "id": "5c9924ca-3a80-4a5d-80ea-a46be0deb9a3",
   "metadata": {},
   "outputs": [],
   "source": [
    "# Plot function\n",
    "def plot_behavior(col, title):\n",
    "    plt.figure(figsize=(6,4))\n",
    "    sns.countplot(data=dataset, x=col, hue=col, palette='Set2', legend=False)\n",
    "    plt.title(title)\n",
    "    plt.ylabel('Number of Customers')\n",
    "    plt.xticks(rotation=30)\n",
    "    plt.tight_layout()\n",
    "    plt.show()\n"
   ]
  },
  {
   "cell_type": "code",
   "execution_count": null,
   "id": "234542df-016b-4c98-8ca6-0d26469b9421",
   "metadata": {},
   "outputs": [],
   "source": [
    "plot_behavior('did_he/she_buy_any_mobile_before', 'New vs. Returning Customers')\n",
    "plot_behavior('does_he/she_come_from_facebook_page', 'Facebook-origin vs. walk-in')\n",
    "plot_behavior('did_he/she_hear_of_our_shop_before', 'Referrals')\n",
    "plot_behavior('does_he/she_followed_our_page', 'Followed Our Facebook Page')"
   ]
  },
  {
   "cell_type": "markdown",
   "id": "5da0a778-5384-4d89-bf03-1b2a28fe404a",
   "metadata": {},
   "source": [
    "## Analyze Mobile Brand Preferences and Pricing Trends"
   ]
  },
  {
   "cell_type": "markdown",
   "id": "3956b595-fbf5-4c80-90dd-e34c66976c52",
   "metadata": {},
   "source": [
    "### Top Selling Mobile Brands"
   ]
  },
  {
   "cell_type": "code",
   "execution_count": null,
   "id": "2ea23f76-eec8-47f6-94a4-ddc6b3886fe9",
   "metadata": {},
   "outputs": [],
   "source": [
    "# Top 10 mobile brands\n",
    "top_mobiles = dataset['mobile_name'].value_counts().head(10)\n",
    "\n",
    "plt.figure(figsize=(10, 5))\n",
    "sns.barplot(x=top_mobiles.index, y=top_mobiles.values, color='steelblue')\n",
    "plt.title('Top 10 Most Sold Mobile Brands')\n",
    "plt.xlabel('Mobile Brand')\n",
    "plt.ylabel('Number of Sales')\n",
    "plt.xticks(rotation=45)\n",
    "plt.tight_layout()\n",
    "plt.show()"
   ]
  },
  {
   "cell_type": "code",
   "execution_count": null,
   "id": "9ffb9690-259c-4c87-af7f-9843bc0d78c7",
   "metadata": {},
   "outputs": [],
   "source": [
    "plt.figure(figsize=(10, 5))\n",
    "plt.plot(top_mobiles.index, top_mobiles.values, marker='o', linestyle='-', color='teal')\n",
    "plt.title('Top 10 Most Sold Mobile Brands - Line Chart')\n",
    "plt.xlabel('Mobile Brand')\n",
    "plt.ylabel('Number of Sales')\n",
    "plt.xticks(rotation=45)\n",
    "plt.grid(True)\n",
    "plt.tight_layout()\n",
    "plt.show()"
   ]
  },
  {
   "cell_type": "code",
   "execution_count": null,
   "id": "c4409962-4aab-4aaf-9725-c47ec6aaffa7",
   "metadata": {},
   "outputs": [],
   "source": [
    "plt.figure(figsize=(8, 8))\n",
    "plt.pie(top_mobiles.values, labels=top_mobiles.index, autopct='%1.1f%%', startangle=140, colors=sns.color_palette('viridis', len(top_mobiles)))\n",
    "plt.title('Top 10 Most Sold Mobile Brands - Pie Chart')\n",
    "plt.axis('equal')  # Makes the pie chart a circle\n",
    "plt.tight_layout()\n",
    "plt.show()"
   ]
  },
  {
   "cell_type": "markdown",
   "id": "1e7eaf1d-5421-4a70-99ef-9e0674446b06",
   "metadata": {},
   "source": [
    "### Average Sell Price by Mobile Brand"
   ]
  },
  {
   "cell_type": "code",
   "execution_count": null,
   "id": "378b1469-b3f6-44b5-9963-a97a36f88867",
   "metadata": {},
   "outputs": [],
   "source": [
    "# Group by mobile and compute mean price\n",
    "avg_price_per_mobile = dataset.groupby('mobile_name')['sell_price'].mean().sort_values(ascending=False)\n",
    "\n",
    "plt.figure(figsize=(12, 6))\n",
    "sns.barplot(x=avg_price_per_mobile.head(10).index, y=avg_price_per_mobile.head(10).values, color='steelblue')\n",
    "plt.title('Top 10 Most Expensive Mobile Brands (on Average)')\n",
    "plt.xlabel('Mobile Brand')\n",
    "plt.ylabel('Average Sell Price')\n",
    "plt.xticks(rotation=45)\n",
    "plt.tight_layout()\n",
    "plt.show()"
   ]
  },
  {
   "cell_type": "code",
   "execution_count": null,
   "id": "8ae674a3-af59-4430-a128-4772bf5f126a",
   "metadata": {},
   "outputs": [],
   "source": [
    "top_10_avg_price = avg_price_per_mobile.head(10)\n",
    "\n",
    "plt.figure(figsize=(12, 6))\n",
    "plt.plot(top_10_avg_price.index, top_10_avg_price.values, marker='o', linestyle='-', color='darkorange')\n",
    "plt.title('Top 10 Most Expensive Mobile Brands (Average Price) - Line Chart')\n",
    "plt.xlabel('Mobile Brand')\n",
    "plt.ylabel('Average Sell Price')\n",
    "plt.xticks(rotation=45)\n",
    "plt.grid(True)\n",
    "plt.tight_layout()\n",
    "plt.show()\n"
   ]
  },
  {
   "cell_type": "code",
   "execution_count": null,
   "id": "5891c886-d87f-4835-a998-728e57f7c48b",
   "metadata": {},
   "outputs": [],
   "source": [
    "plt.figure(figsize=(8, 8))\n",
    "plt.pie(top_10_avg_price.values, labels=top_10_avg_price.index, autopct='%1.1f%%',\n",
    "        startangle=140, colors=sns.color_palette('magma', len(top_10_avg_price)))\n",
    "plt.title('Top 10 Most Expensive Mobile Brands (Average Price) - Pie Chart')\n",
    "plt.axis('equal')  # Ensures pie is a circle\n",
    "plt.tight_layout()\n",
    "plt.show()\n"
   ]
  },
  {
   "cell_type": "markdown",
   "id": "22e450c6-053f-4a6f-bd4d-7d6fb28c0693",
   "metadata": {},
   "source": [
    "### Price Distribution Overall"
   ]
  },
  {
   "cell_type": "code",
   "execution_count": null,
   "id": "aff02b73-71d9-49b4-86a8-2a5a4c67d7f4",
   "metadata": {},
   "outputs": [],
   "source": [
    "plt.figure(figsize=(10, 5))\n",
    "sns.histplot(dataset['sell_price'], kde=True, bins=30, color='skyblue')\n",
    "plt.title('Distribution of Mobile Sell Prices')\n",
    "plt.xlabel('Sell Price')\n",
    "plt.ylabel('Frequency')\n",
    "plt.tight_layout()\n",
    "plt.show()\n"
   ]
  },
  {
   "cell_type": "code",
   "execution_count": null,
   "id": "c437274c-6cce-42a1-aae9-cd6c29b6c68a",
   "metadata": {},
   "outputs": [],
   "source": [
    "plt.figure(figsize=(10, 4))\n",
    "sns.violinplot(x=dataset['sell_price'], color='plum')\n",
    "plt.title('Violin Plot of Mobile Sell Prices')\n",
    "plt.xlabel('Sell Price')\n",
    "plt.tight_layout()\n",
    "plt.show()"
   ]
  },
  {
   "cell_type": "code",
   "execution_count": null,
   "id": "8976cbd5-67a5-4792-9344-4536295f2ae7",
   "metadata": {},
   "outputs": [],
   "source": [
    "from statsmodels.distributions.empirical_distribution import ECDF\n",
    "\n",
    "ecdf = ECDF(dataset['sell_price'])\n",
    "\n",
    "plt.figure(figsize=(10, 5))\n",
    "plt.plot(ecdf.x, ecdf.y, marker='.', linestyle='none', color='seagreen')\n",
    "plt.title('ECDF of Mobile Sell Prices')\n",
    "plt.xlabel('Sell Price')\n",
    "plt.ylabel('Cumulative Probability')\n",
    "plt.grid(True)\n",
    "plt.tight_layout()\n",
    "plt.show()"
   ]
  },
  {
   "cell_type": "code",
   "execution_count": null,
   "id": "25069ee7-4fa1-4525-9360-1d37d1fa1155",
   "metadata": {},
   "outputs": [],
   "source": [
    "# Density Plot (KDE only, no histogram)\n",
    "plt.figure(figsize=(10, 5))\n",
    "sns.kdeplot(dataset['sell_price'], fill=True, color='skyblue')\n",
    "plt.title('KDE of Mobile Sell Prices')\n",
    "plt.xlabel('Sell Price')\n",
    "plt.ylabel('Density')\n",
    "plt.tight_layout()\n",
    "plt.show()"
   ]
  },
  {
   "cell_type": "markdown",
   "id": "221e7559-26af-4dc8-9eb8-dd26b47f2e0c",
   "metadata": {},
   "source": [
    "### Price Trends Over Time"
   ]
  },
  {
   "cell_type": "code",
   "execution_count": null,
   "id": "b8601038-68af-45df-8538-8bdd0a98ce47",
   "metadata": {},
   "outputs": [],
   "source": [
    "# Convert date to datetime if not already done\n",
    "dataset['date'] = pd.to_datetime(dataset['date'], format='%d-%m-%Y')\n",
    "\n",
    "# Resample and get average monthly price\n",
    "monthly_trend = dataset.set_index('date').resample('ME')['sell_price'].mean()\n",
    "\n",
    "plt.figure(figsize=(12, 6))\n",
    "monthly_trend.plot()\n",
    "plt.title('Average Sell Price Over Time (Monthly)')\n",
    "plt.ylabel('Average Sell Price')\n",
    "plt.xlabel('Date')\n",
    "plt.tight_layout()\n",
    "plt.grid(True)\n",
    "plt.show()\n"
   ]
  },
  {
   "cell_type": "markdown",
   "id": "89cee046-5550-459d-a9fb-fdbf4410e4d9",
   "metadata": {},
   "source": [
    "### Brand Popularity by Location"
   ]
  },
  {
   "cell_type": "code",
   "execution_count": null,
   "id": "017dfad0-5738-421a-b32f-c9960edd1869",
   "metadata": {},
   "outputs": [],
   "source": [
    "top_brands = dataset['mobile_name'].value_counts().head(5).index.tolist()\n",
    "\n",
    "plt.figure(figsize=(12, 6))\n",
    "sns.countplot(data=dataset[dataset['mobile_name'].isin(top_brands)],\n",
    "              x='is_local',\n",
    "              hue='mobile_name',\n",
    "              order=dataset['is_local'].value_counts().index[:10])\n",
    "plt.title('Top 5 Mobile Brands by Customer Location')\n",
    "plt.xticks(rotation=45)\n",
    "plt.tight_layout()\n",
    "plt.show()\n"
   ]
  },
  {
   "cell_type": "markdown",
   "id": "e2cd7a53-a718-46b8-ba74-15b958aed9a8",
   "metadata": {},
   "source": [
    "## Handle Missing Values"
   ]
  },
  {
   "cell_type": "code",
   "execution_count": null,
   "id": "16ac757a-b621-414c-83d9-e675feafdf30",
   "metadata": {},
   "outputs": [],
   "source": [
    "# Check for missing values\n",
    "missing_values = dataset.isnull().sum()\n",
    "print(\"🔍 Missing Values:\\n\", missing_values)\n"
   ]
  },
  {
   "cell_type": "code",
   "execution_count": null,
   "id": "83088c91-93bd-4e66-9c64-8dc025feda3e",
   "metadata": {},
   "outputs": [],
   "source": [
    "# Check for placeholder strings like \"NA\", \"Unknown\"\n",
    "for col in dataset.columns:\n",
    "    if dataset[col].dtype == \"object\":\n",
    "        print(f\"\\n🔎 Unique values in {col}:\")\n",
    "        print(dataset[col].unique())"
   ]
  },
  {
   "cell_type": "markdown",
   "id": "85303576-ef4a-4dbf-bc4e-a4d940f97758",
   "metadata": {},
   "source": [
    "## Encode Categorical Variables"
   ]
  },
  {
   "cell_type": "code",
   "execution_count": null,
   "id": "044f84b6-e557-49cf-9044-21f21e719ec1",
   "metadata": {},
   "outputs": [],
   "source": [
    "# Identify Categorical Columns\n",
    "cat_cols = dataset.select_dtypes(include='object').columns.tolist()\n",
    "print(\"🧩 Categorical columns:\", cat_cols)"
   ]
  },
  {
   "cell_type": "markdown",
   "id": "5bdcc25c-428b-4fc1-bcda-e010bd8c1153",
   "metadata": {},
   "source": [
    "### Label Encoding or One-Hot Encoding\n",
    "- For binary columns: Label Encoding\n",
    "- For multi-class columns: One-Hot Encoding"
   ]
  },
  {
   "cell_type": "code",
   "execution_count": null,
   "id": "2709d582-4552-4087-bb50-2eda36632bdd",
   "metadata": {},
   "outputs": [],
   "source": [
    "# Binary columns\n",
    "binary_cols = [\n",
    "    'does_he/she_come_from_facebook_page',\n",
    "    'does_he/she_followed_our_page',\n",
    "    'did_he/she_buy_any_mobile_before',\n",
    "    'did_he/she_hear_of_our_shop_before',\n",
    "    'gender',\n",
    "    'is_local'\n",
    "]\n",
    "\n",
    "# Label encode binary columns\n",
    "label_encoder = LabelEncoder()\n",
    "for col in binary_cols:\n",
    "    dataset[col] = label_encoder.fit_transform(dataset[col])"
   ]
  },
  {
   "cell_type": "code",
   "execution_count": null,
   "id": "d2c576df-40ef-41de-8b56-96e700d31648",
   "metadata": {},
   "outputs": [],
   "source": [
    "# One-hot encode multi-category column mobile_name\n",
    "dataset = pd.get_dummies(dataset, columns=['mobile_name'], drop_first=True)"
   ]
  },
  {
   "cell_type": "code",
   "execution_count": null,
   "id": "6fbe38a4-755c-4bf6-982d-1b921829ac91",
   "metadata": {},
   "outputs": [],
   "source": [
    "print(\"✅ Final Data Types:\\n\", dataset.dtypes)"
   ]
  },
  {
   "cell_type": "code",
   "execution_count": null,
   "id": "b6a4089e-250d-4afc-a2e3-e518a1a6e16b",
   "metadata": {},
   "outputs": [],
   "source": [
    "print(\"\\n✅ Encoded Data Sample:\\n\")\n",
    "dataset.head()"
   ]
  },
  {
   "cell_type": "code",
   "execution_count": null,
   "id": "e91b19be-a01e-4ea6-9c1a-6591a24f4db2",
   "metadata": {},
   "outputs": [],
   "source": [
    "# Save cleaned dataset to CSV"
   ]
  },
  {
   "cell_type": "code",
   "execution_count": null,
   "id": "877b85c1-d725-45d6-a3dd-cc55302dd6f9",
   "metadata": {},
   "outputs": [],
   "source": [
    "dataset.to_csv(\"data/cleaned_dataset.csv\", index=False)"
   ]
  },
  {
   "cell_type": "code",
   "execution_count": null,
   "id": "587370b4-488d-4d95-b14e-df8ee3635c08",
   "metadata": {},
   "outputs": [],
   "source": []
  }
 ],
 "metadata": {
  "kernelspec": {
   "display_name": "Python 3 (ipykernel)",
   "language": "python",
   "name": "python3"
  },
  "language_info": {
   "codemirror_mode": {
    "name": "ipython",
    "version": 3
   },
   "file_extension": ".py",
   "mimetype": "text/x-python",
   "name": "python",
   "nbconvert_exporter": "python",
   "pygments_lexer": "ipython3",
   "version": "3.11.5"
  }
 },
 "nbformat": 4,
 "nbformat_minor": 5
}
